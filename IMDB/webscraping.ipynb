{
 "cells": [
  {
   "cell_type": "markdown",
   "metadata": {},
   "source": [
    "#IMDB WEBSCRAPING"
   ]
  },
  {
   "cell_type": "code",
   "execution_count": 46,
   "metadata": {},
   "outputs": [
    {
     "name": "stdout",
     "output_type": "stream",
     "text": [
      "['Sheet']\n",
      "['Top Rated Movies']\n",
      "1. The Shawshank Redemption 1994 9.3\n",
      "2. The Godfather 1972 9.2\n",
      "3. The Dark Knight 2008 9.0\n",
      "4. The Godfather Part II 1974 9.0\n",
      "5. 12 Angry Men 1957 9.0\n",
      "6. The Lord of the Rings: The Return of the King 2003 9.0\n",
      "7. Schindler's List 1993 9.0\n",
      "8. Pulp Fiction 1994 8.9\n",
      "9. The Lord of the Rings: The Fellowship of the Ring 2001 8.9\n",
      "10. Il buono, il brutto, il cattivo 1966 8.8\n",
      "11. Forrest Gump 1994 8.8\n",
      "12. The Lord of the Rings: The Two Towers 2002 8.8\n",
      "13. Fight Club 1999 8.8\n",
      "14. Inception 2010 8.8\n",
      "15. Star Wars: Episode V - The Empire Strikes Back 1980 8.7\n",
      "16. The Matrix 1999 8.7\n",
      "17. Goodfellas 1990 8.7\n",
      "18. One Flew Over the Cuckoo's Nest 1975 8.7\n",
      "19. Interstellar 2014 8.7\n",
      "20. Se7en 1995 8.6\n",
      "21. It's a Wonderful Life 1946 8.6\n",
      "22. Shichinin no samurai 1954 8.6\n",
      "23. The Silence of the Lambs 1991 8.6\n",
      "24. Saving Private Ryan 1998 8.6\n",
      "25. Cidade de Deus 2002 8.6\n"
     ]
    }
   ],
   "source": [
    "from bs4 import BeautifulSoup\n",
    "import requests\n",
    "import openpyxl\n",
    "excel=openpyxl.Workbook()\n",
    "print(excel.sheetnames)\n",
    "sheet=excel.active\n",
    "sheet.title='Top Rated Movies'\n",
    "print(excel.sheetnames)\n",
    "sheet.append(['MovieName','Release Date','IMDB Rating'])\n",
    "\n",
    "try:\n",
    "    # Sending a GET request with headers to avoid being blocked\n",
    "    headers = {'User-Agent': 'Mozilla/5.0 (Windows NT 10.0; Win64; x64) AppleWebKit/537.36 (KHTML, like Gecko) Chrome/91.0.4472.124 Safari/537.36'}\n",
    "    source = requests.get('https://www.imdb.com/chart/top/', headers=headers)\n",
    "    \n",
    "    # Raise error if request fails\n",
    "    source.raise_for_status()\n",
    "    \n",
    "    # Parse the page content\n",
    "    soup = BeautifulSoup(source.text, 'html.parser')\n",
    "    \n",
    "    # Find the correct element that holds the movie details\n",
    "    movies = soup.find('ul', class_='ipc-metadata-list ipc-metadata-list--dividers-between sc-a1e81754-0 iyTDQy compact-list-view ipc-metadata-list--base').find_all('li')\n",
    "    \n",
    "    for movie in movies:\n",
    "        # Get the movie title (linked text inside <a>)\n",
    "        name = movie.find('h3', class_='ipc-title__text').get_text() \n",
    "        \n",
    "        # Get the year of release\n",
    "        date = movie.find('span', class_='sc-300a8231-7 eaXxft cli-title-metadata-item').get_text() \n",
    "        \n",
    "        # Get the rating\n",
    "        rating = movie.find('span', class_='ipc-rating-star--rating').get_text() \n",
    "        \n",
    "        print(name,date,rating)\n",
    "        sheet.append([name,date,rating])\n",
    "\n",
    "\n",
    "except Exception as e:\n",
    "    print(f\"An error occurred: {e}\")\n",
    "\n",
    "excel.save('IMDB Movie rating.xlsx')\n"
   ]
  }
 ],
 "metadata": {
  "kernelspec": {
   "display_name": "base",
   "language": "python",
   "name": "python3"
  },
  "language_info": {
   "codemirror_mode": {
    "name": "ipython",
    "version": 3
   },
   "file_extension": ".py",
   "mimetype": "text/x-python",
   "name": "python",
   "nbconvert_exporter": "python",
   "pygments_lexer": "ipython3",
   "version": "3.12.7"
  }
 },
 "nbformat": 4,
 "nbformat_minor": 2
}
