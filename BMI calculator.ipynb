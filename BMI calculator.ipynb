{
 "cells": [
  {
   "cell_type": "markdown",
   "metadata": {},
   "source": [
    "#BMI CALCULATOR"
   ]
  },
  {
   "cell_type": "code",
   "execution_count": 4,
   "metadata": {},
   "outputs": [
    {
     "name": "stdout",
     "output_type": "stream",
     "text": [
      "4.135294117647059\n",
      "Nimesh,you are underweight\n"
     ]
    }
   ],
   "source": [
    "name=(input('Enter your name'))\n",
    "weight=int(input('Enter your weight in pounds:'))\n",
    "height=int(input('Enter your height in inches:'))\n",
    "BMI=(weight*703)/(height*height)\n",
    "print(BMI)\n",
    "\n",
    "if(BMI>0):\n",
    "    if(BMI<18.5):\n",
    "        print(name+\",you are underweight\")\n",
    "    elif (BMI<=24.9):\n",
    "        print(name+\",you are normal weight.\")\n",
    "    elif (BMI<29.9):\n",
    "        print(name+\",you are overweight\")\n",
    "    elif (BMI<34.9):\n",
    "        print(name+\",you are obese\")\n",
    "    elif(BMI<39.9):\n",
    "        print(name+\",you are severely obese\")\n",
    "    else:\n",
    "        print(name+\",you are morbidly obsese\")\n",
    "else:\n",
    "    print(\"Enter valid input\")\n"
   ]
  }
 ],
 "metadata": {
  "kernelspec": {
   "display_name": "base",
   "language": "python",
   "name": "python3"
  },
  "language_info": {
   "codemirror_mode": {
    "name": "ipython",
    "version": 3
   },
   "file_extension": ".py",
   "mimetype": "text/x-python",
   "name": "python",
   "nbconvert_exporter": "python",
   "pygments_lexer": "ipython3",
   "version": "3.12.7"
  }
 },
 "nbformat": 4,
 "nbformat_minor": 2
}
