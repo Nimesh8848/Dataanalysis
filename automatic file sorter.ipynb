{
 "cells": [
  {
   "cell_type": "markdown",
   "metadata": {},
   "source": [
    "#Automatic file sorter in file explorer"
   ]
  },
  {
   "cell_type": "code",
   "execution_count": 8,
   "metadata": {},
   "outputs": [],
   "source": [
    "import os,shutil\n",
    "path =r\"C:/Users/USER/Desktop/Python/\"\n",
    "file_name=os.listdir(path)\n",
    "folder_names=['csv files','image files']\n",
    "for loop in range(0,2):\n",
    "    if not os.path.exists(path+folder_names[loop]):\n",
    "        print(path + folder_names[loop])\n",
    "        os.makedirs(path + folder_names[loop])\n",
    "\n",
    "for file in file_name:\n",
    "    if \".csv\" in file and not os.path.exists(path + \"csv files/\"+file):\n",
    "        shutil.move(path + file,path + \"csv files/\"+file)\n",
    "    elif \".png\" in file and not os.path.exists(path + \"image files/\"+file):\n",
    "        shutil.move(path + file,path + \"image files/\" + file)\n",
    "    "
   ]
  }
 ],
 "metadata": {
  "kernelspec": {
   "display_name": "base",
   "language": "python",
   "name": "python3"
  },
  "language_info": {
   "codemirror_mode": {
    "name": "ipython",
    "version": 3
   },
   "file_extension": ".py",
   "mimetype": "text/x-python",
   "name": "python",
   "nbconvert_exporter": "python",
   "pygments_lexer": "ipython3",
   "version": "3.12.7"
  }
 },
 "nbformat": 4,
 "nbformat_minor": 2
}
